{
 "cells": [
  {
   "cell_type": "markdown",
   "metadata": {},
   "source": [
    "# Sentiment Analysis - Analysis Export"
   ]
  },
  {
   "cell_type": "code",
   "execution_count": 41,
   "metadata": {},
   "outputs": [],
   "source": [
    "import pandas as pd\n",
    "import re\n",
    "import missingno as msno\n",
    "import matplotlib.pyplot as plt\n",
    "import seaborn as sns\n",
    "from sklearn import preprocessing\n",
    "sns.set_theme(style=\"whitegrid\")\n",
    "%matplotlib inline"
   ]
  },
  {
   "cell_type": "code",
   "execution_count": 42,
   "metadata": {},
   "outputs": [],
   "source": [
    "skripal_df = pd.read_csv(\"./skripal_export.csv\")\n",
    "iranian_df = pd.read_csv(\"./scientist_assassination.csv\")\n",
    "df = pd.concat([skripal_df, iranian_df])\n",
    "# df = df.dropna(axis=1, how='all')\n",
    "df = df[['fullText', 'Dataset', 'Author', \"People\", \"Subject\", \"Title\", \"Pages\", \"Publication date\"]]\n",
    "df = df.dropna()\n",
    "df = df.reset_index(drop = True)\n",
    "df = df.drop([49])\n",
    "df = df.reset_index(drop = True)\n",
    "df = df[df.fullText != \"Error encountered in scraping fullText.\"]\n",
    "df['Page'] = df['Pages'].apply(lambda x: list(map(int, re.findall(r'\\d+', x)))[0])"
   ]
  },
  {
   "cell_type": "code",
   "execution_count": 43,
   "metadata": {},
   "outputs": [
    {
     "name": "stdout",
     "output_type": "stream",
     "text": [
      "<class 'pandas.core.frame.DataFrame'>\n",
      "Int64Index: 110 entries, 0 to 131\n",
      "Data columns (total 9 columns):\n",
      " #   Column            Non-Null Count  Dtype \n",
      "---  ------            --------------  ----- \n",
      " 0   fullText          110 non-null    object\n",
      " 1   Dataset           110 non-null    object\n",
      " 2   Author            110 non-null    object\n",
      " 3   People            110 non-null    object\n",
      " 4   Subject           110 non-null    object\n",
      " 5   Title             110 non-null    object\n",
      " 6   Pages             110 non-null    object\n",
      " 7   Publication date  110 non-null    object\n",
      " 8   Page              110 non-null    int64 \n",
      "dtypes: int64(1), object(8)\n",
      "memory usage: 8.6+ KB\n"
     ]
    }
   ],
   "source": [
    "df.info()"
   ]
  },
  {
   "cell_type": "code",
   "execution_count": 44,
   "metadata": {},
   "outputs": [
    {
     "data": {
      "text/plain": [
       "Skripal                    103\n",
       "Scientist Assassination      7\n",
       "Name: Dataset, dtype: int64"
      ]
     },
     "execution_count": 44,
     "metadata": {},
     "output_type": "execute_result"
    }
   ],
   "source": [
    "df.Dataset.value_counts()"
   ]
  },
  {
   "cell_type": "code",
   "execution_count": 45,
   "metadata": {},
   "outputs": [],
   "source": [
    "p = r'\\w+'\n",
    "df['wordCount'] = df['fullText'].apply(lambda x: len(re.findall(p, x)))"
   ]
  },
  {
   "cell_type": "code",
   "execution_count": 46,
   "metadata": {},
   "outputs": [
    {
     "data": {
      "text/html": [
       "<div>\n",
       "<style scoped>\n",
       "    .dataframe tbody tr th:only-of-type {\n",
       "        vertical-align: middle;\n",
       "    }\n",
       "\n",
       "    .dataframe tbody tr th {\n",
       "        vertical-align: top;\n",
       "    }\n",
       "\n",
       "    .dataframe thead th {\n",
       "        text-align: right;\n",
       "    }\n",
       "</style>\n",
       "<table border=\"1\" class=\"dataframe\">\n",
       "  <thead>\n",
       "    <tr style=\"text-align: right;\">\n",
       "      <th></th>\n",
       "      <th>fullText</th>\n",
       "      <th>Dataset</th>\n",
       "      <th>Author</th>\n",
       "      <th>People</th>\n",
       "      <th>Subject</th>\n",
       "      <th>Title</th>\n",
       "      <th>Pages</th>\n",
       "      <th>Publication date</th>\n",
       "      <th>Page</th>\n",
       "      <th>wordCount</th>\n",
       "      <th>PubDateParsed</th>\n",
       "    </tr>\n",
       "  </thead>\n",
       "  <tbody>\n",
       "    <tr>\n",
       "      <th>124</th>\n",
       "      <td>Russia's intelligence service said Friday that...</td>\n",
       "      <td>Skripal</td>\n",
       "      <td>Steven Lee Myers; Alan Cowell contributed repo...</td>\n",
       "      <td>Litvinenko, Alexander; Lugovoy, Andrei K</td>\n",
       "      <td>Espionage;Criminal investigations;Poisoning</td>\n",
       "      <td>Russia Says It Opened Criminal Inquiry Into Br...</td>\n",
       "      <td>A.4</td>\n",
       "      <td>16-Jun-07</td>\n",
       "      <td>4</td>\n",
       "      <td>624</td>\n",
       "      <td>2007-06-16</td>\n",
       "    </tr>\n",
       "    <tr>\n",
       "      <th>131</th>\n",
       "      <td>President Bush deflected a secret request by I...</td>\n",
       "      <td>Scientist Assassination</td>\n",
       "      <td>Sanger, David E</td>\n",
       "      <td>Bush, George W</td>\n",
       "      <td>Covert operations;Nuclear weapons;Military air...</td>\n",
       "      <td>U.S. Rejected Aid For Israeli Raid On Nuclear ...</td>\n",
       "      <td>A.1</td>\n",
       "      <td>11-Jan-09</td>\n",
       "      <td>1</td>\n",
       "      <td>2571</td>\n",
       "      <td>2009-01-11</td>\n",
       "    </tr>\n",
       "    <tr>\n",
       "      <th>122</th>\n",
       "      <td>WASHINGTON -- When Aleksandr Zaporozhsky, one ...</td>\n",
       "      <td>Skripal</td>\n",
       "      <td>SCOTT SHANE and ELLEN BARRY</td>\n",
       "      <td>Zaporozhsky, Aleksandr; Skripal, Sergei V; Vas...</td>\n",
       "      <td>Prisoner transfers;Espionage</td>\n",
       "      <td>Intrigue and Ambiguity in Cases of 4 Russians ...</td>\n",
       "      <td>A.9</td>\n",
       "      <td>10-Jul-10</td>\n",
       "      <td>9</td>\n",
       "      <td>1158</td>\n",
       "      <td>2010-07-10</td>\n",
       "    </tr>\n",
       "    <tr>\n",
       "      <th>123</th>\n",
       "      <td>WASHINGTON -- On a Friday afternoon in mid-Ju...</td>\n",
       "      <td>Skripal</td>\n",
       "      <td>PETER BAKER, CHARLIE SAVAGE and BENJAMIN WEISER</td>\n",
       "      <td>Obama, Barack</td>\n",
       "      <td>Arrests;Prisoner transfers;International relat...</td>\n",
       "      <td>Swap Idea Emerged Early In Case of Russian Age...</td>\n",
       "      <td>A.1</td>\n",
       "      <td>10-Jul-10</td>\n",
       "      <td>1</td>\n",
       "      <td>1681</td>\n",
       "      <td>2010-07-10</td>\n",
       "    </tr>\n",
       "    <tr>\n",
       "      <th>130</th>\n",
       "      <td>TEHRAN -- Unidentified assailants riding motor...</td>\n",
       "      <td>Scientist Assassination</td>\n",
       "      <td>WILLIAM YONG and ROBERT F. WORTH</td>\n",
       "      <td>Ahmadinejad, Mahmoud</td>\n",
       "      <td>Nuclear weapons;Sanctions;Assassinations &amp; ass...</td>\n",
       "      <td>Bombings Hit Atomic Experts In Iran Streets: [...</td>\n",
       "      <td>A.1</td>\n",
       "      <td>30-Nov-10</td>\n",
       "      <td>1</td>\n",
       "      <td>1032</td>\n",
       "      <td>2010-11-30</td>\n",
       "    </tr>\n",
       "  </tbody>\n",
       "</table>\n",
       "</div>"
      ],
      "text/plain": [
       "                                              fullText  \\\n",
       "124  Russia's intelligence service said Friday that...   \n",
       "131  President Bush deflected a secret request by I...   \n",
       "122  WASHINGTON -- When Aleksandr Zaporozhsky, one ...   \n",
       "123   WASHINGTON -- On a Friday afternoon in mid-Ju...   \n",
       "130  TEHRAN -- Unidentified assailants riding motor...   \n",
       "\n",
       "                     Dataset  \\\n",
       "124                  Skripal   \n",
       "131  Scientist Assassination   \n",
       "122                  Skripal   \n",
       "123                  Skripal   \n",
       "130  Scientist Assassination   \n",
       "\n",
       "                                                Author  \\\n",
       "124  Steven Lee Myers; Alan Cowell contributed repo...   \n",
       "131                                    Sanger, David E   \n",
       "122                        SCOTT SHANE and ELLEN BARRY   \n",
       "123    PETER BAKER, CHARLIE SAVAGE and BENJAMIN WEISER   \n",
       "130                   WILLIAM YONG and ROBERT F. WORTH   \n",
       "\n",
       "                                                People  \\\n",
       "124           Litvinenko, Alexander; Lugovoy, Andrei K   \n",
       "131                                     Bush, George W   \n",
       "122  Zaporozhsky, Aleksandr; Skripal, Sergei V; Vas...   \n",
       "123                                      Obama, Barack   \n",
       "130                               Ahmadinejad, Mahmoud   \n",
       "\n",
       "                                               Subject  \\\n",
       "124        Espionage;Criminal investigations;Poisoning   \n",
       "131  Covert operations;Nuclear weapons;Military air...   \n",
       "122                       Prisoner transfers;Espionage   \n",
       "123  Arrests;Prisoner transfers;International relat...   \n",
       "130  Nuclear weapons;Sanctions;Assassinations & ass...   \n",
       "\n",
       "                                                 Title Pages Publication date  \\\n",
       "124  Russia Says It Opened Criminal Inquiry Into Br...   A.4        16-Jun-07   \n",
       "131  U.S. Rejected Aid For Israeli Raid On Nuclear ...   A.1        11-Jan-09   \n",
       "122  Intrigue and Ambiguity in Cases of 4 Russians ...   A.9        10-Jul-10   \n",
       "123  Swap Idea Emerged Early In Case of Russian Age...   A.1        10-Jul-10   \n",
       "130  Bombings Hit Atomic Experts In Iran Streets: [...   A.1        30-Nov-10   \n",
       "\n",
       "     Page  wordCount PubDateParsed  \n",
       "124     4        624    2007-06-16  \n",
       "131     1       2571    2009-01-11  \n",
       "122     9       1158    2010-07-10  \n",
       "123     1       1681    2010-07-10  \n",
       "130     1       1032    2010-11-30  "
      ]
     },
     "execution_count": 46,
     "metadata": {},
     "output_type": "execute_result"
    }
   ],
   "source": [
    "df['PubDateParsed'] =  pd.to_datetime(df['Publication date'])\n",
    "df = df.sort_values(by=['PubDateParsed'])\n",
    "df.head()"
   ]
  },
  {
   "cell_type": "markdown",
   "metadata": {},
   "source": [
    "## Sentiment"
   ]
  },
  {
   "cell_type": "code",
   "execution_count": 47,
   "metadata": {},
   "outputs": [],
   "source": [
    "from vaderSentiment.vaderSentiment import SentimentIntensityAnalyzer\n",
    "analyser = SentimentIntensityAnalyzer()"
   ]
  },
  {
   "cell_type": "code",
   "execution_count": 48,
   "metadata": {},
   "outputs": [],
   "source": [
    "def sentiment_analyzer_scores(sentence):\n",
    "    score = analyser.polarity_scores(sentence)\n",
    "    return score"
   ]
  },
  {
   "cell_type": "code",
   "execution_count": 49,
   "metadata": {},
   "outputs": [],
   "source": [
    "df['negSentiment'] = df['fullText'].apply(lambda x: sentiment_analyzer_scores(x)['neg'])\n",
    "df['posSentiment'] = df['fullText'].apply(lambda x: sentiment_analyzer_scores(x)['pos'])"
   ]
  },
  {
   "cell_type": "code",
   "execution_count": 50,
   "metadata": {},
   "outputs": [],
   "source": [
    "# normalize\n",
    "min_max_scaler = preprocessing.MinMaxScaler()\n",
    "df['negSentimentScaled'] = df['negSentiment'].apply(lambda x: x/df['negSentiment'].max())\n",
    "df['posSentimentScaled'] = df['posSentiment'].apply(lambda x: x/df['posSentiment'].max())"
   ]
  },
  {
   "cell_type": "code",
   "execution_count": 51,
   "metadata": {},
   "outputs": [
    {
     "data": {
      "text/html": [
       "<div>\n",
       "<style scoped>\n",
       "    .dataframe tbody tr th:only-of-type {\n",
       "        vertical-align: middle;\n",
       "    }\n",
       "\n",
       "    .dataframe tbody tr th {\n",
       "        vertical-align: top;\n",
       "    }\n",
       "\n",
       "    .dataframe thead th {\n",
       "        text-align: right;\n",
       "    }\n",
       "</style>\n",
       "<table border=\"1\" class=\"dataframe\">\n",
       "  <thead>\n",
       "    <tr style=\"text-align: right;\">\n",
       "      <th></th>\n",
       "      <th>fullText</th>\n",
       "      <th>Dataset</th>\n",
       "      <th>Author</th>\n",
       "      <th>People</th>\n",
       "      <th>Subject</th>\n",
       "      <th>Title</th>\n",
       "      <th>Pages</th>\n",
       "      <th>Publication date</th>\n",
       "      <th>Page</th>\n",
       "      <th>wordCount</th>\n",
       "      <th>PubDateParsed</th>\n",
       "      <th>negSentiment</th>\n",
       "      <th>posSentiment</th>\n",
       "      <th>negSentimentScaled</th>\n",
       "      <th>posSentimentScaled</th>\n",
       "    </tr>\n",
       "  </thead>\n",
       "  <tbody>\n",
       "    <tr>\n",
       "      <th>124</th>\n",
       "      <td>Russia's intelligence service said Friday that...</td>\n",
       "      <td>Skripal</td>\n",
       "      <td>Steven Lee Myers; Alan Cowell contributed repo...</td>\n",
       "      <td>Litvinenko, Alexander; Lugovoy, Andrei K</td>\n",
       "      <td>Espionage;Criminal investigations;Poisoning</td>\n",
       "      <td>Russia Says It Opened Criminal Inquiry Into Br...</td>\n",
       "      <td>A.4</td>\n",
       "      <td>16-Jun-07</td>\n",
       "      <td>4</td>\n",
       "      <td>624</td>\n",
       "      <td>2007-06-16</td>\n",
       "      <td>0.110</td>\n",
       "      <td>0.058</td>\n",
       "      <td>0.561224</td>\n",
       "      <td>0.436090</td>\n",
       "    </tr>\n",
       "    <tr>\n",
       "      <th>131</th>\n",
       "      <td>President Bush deflected a secret request by I...</td>\n",
       "      <td>Scientist Assassination</td>\n",
       "      <td>Sanger, David E</td>\n",
       "      <td>Bush, George W</td>\n",
       "      <td>Covert operations;Nuclear weapons;Military air...</td>\n",
       "      <td>U.S. Rejected Aid For Israeli Raid On Nuclear ...</td>\n",
       "      <td>A.1</td>\n",
       "      <td>11-Jan-09</td>\n",
       "      <td>1</td>\n",
       "      <td>2571</td>\n",
       "      <td>2009-01-11</td>\n",
       "      <td>0.107</td>\n",
       "      <td>0.091</td>\n",
       "      <td>0.545918</td>\n",
       "      <td>0.684211</td>\n",
       "    </tr>\n",
       "    <tr>\n",
       "      <th>122</th>\n",
       "      <td>WASHINGTON -- When Aleksandr Zaporozhsky, one ...</td>\n",
       "      <td>Skripal</td>\n",
       "      <td>SCOTT SHANE and ELLEN BARRY</td>\n",
       "      <td>Zaporozhsky, Aleksandr; Skripal, Sergei V; Vas...</td>\n",
       "      <td>Prisoner transfers;Espionage</td>\n",
       "      <td>Intrigue and Ambiguity in Cases of 4 Russians ...</td>\n",
       "      <td>A.9</td>\n",
       "      <td>10-Jul-10</td>\n",
       "      <td>9</td>\n",
       "      <td>1158</td>\n",
       "      <td>2010-07-10</td>\n",
       "      <td>0.089</td>\n",
       "      <td>0.122</td>\n",
       "      <td>0.454082</td>\n",
       "      <td>0.917293</td>\n",
       "    </tr>\n",
       "    <tr>\n",
       "      <th>123</th>\n",
       "      <td>WASHINGTON -- On a Friday afternoon in mid-Ju...</td>\n",
       "      <td>Skripal</td>\n",
       "      <td>PETER BAKER, CHARLIE SAVAGE and BENJAMIN WEISER</td>\n",
       "      <td>Obama, Barack</td>\n",
       "      <td>Arrests;Prisoner transfers;International relat...</td>\n",
       "      <td>Swap Idea Emerged Early In Case of Russian Age...</td>\n",
       "      <td>A.1</td>\n",
       "      <td>10-Jul-10</td>\n",
       "      <td>1</td>\n",
       "      <td>1681</td>\n",
       "      <td>2010-07-10</td>\n",
       "      <td>0.086</td>\n",
       "      <td>0.102</td>\n",
       "      <td>0.438776</td>\n",
       "      <td>0.766917</td>\n",
       "    </tr>\n",
       "    <tr>\n",
       "      <th>130</th>\n",
       "      <td>TEHRAN -- Unidentified assailants riding motor...</td>\n",
       "      <td>Scientist Assassination</td>\n",
       "      <td>WILLIAM YONG and ROBERT F. WORTH</td>\n",
       "      <td>Ahmadinejad, Mahmoud</td>\n",
       "      <td>Nuclear weapons;Sanctions;Assassinations &amp; ass...</td>\n",
       "      <td>Bombings Hit Atomic Experts In Iran Streets: [...</td>\n",
       "      <td>A.1</td>\n",
       "      <td>30-Nov-10</td>\n",
       "      <td>1</td>\n",
       "      <td>1032</td>\n",
       "      <td>2010-11-30</td>\n",
       "      <td>0.147</td>\n",
       "      <td>0.075</td>\n",
       "      <td>0.750000</td>\n",
       "      <td>0.563910</td>\n",
       "    </tr>\n",
       "  </tbody>\n",
       "</table>\n",
       "</div>"
      ],
      "text/plain": [
       "                                              fullText  \\\n",
       "124  Russia's intelligence service said Friday that...   \n",
       "131  President Bush deflected a secret request by I...   \n",
       "122  WASHINGTON -- When Aleksandr Zaporozhsky, one ...   \n",
       "123   WASHINGTON -- On a Friday afternoon in mid-Ju...   \n",
       "130  TEHRAN -- Unidentified assailants riding motor...   \n",
       "\n",
       "                     Dataset  \\\n",
       "124                  Skripal   \n",
       "131  Scientist Assassination   \n",
       "122                  Skripal   \n",
       "123                  Skripal   \n",
       "130  Scientist Assassination   \n",
       "\n",
       "                                                Author  \\\n",
       "124  Steven Lee Myers; Alan Cowell contributed repo...   \n",
       "131                                    Sanger, David E   \n",
       "122                        SCOTT SHANE and ELLEN BARRY   \n",
       "123    PETER BAKER, CHARLIE SAVAGE and BENJAMIN WEISER   \n",
       "130                   WILLIAM YONG and ROBERT F. WORTH   \n",
       "\n",
       "                                                People  \\\n",
       "124           Litvinenko, Alexander; Lugovoy, Andrei K   \n",
       "131                                     Bush, George W   \n",
       "122  Zaporozhsky, Aleksandr; Skripal, Sergei V; Vas...   \n",
       "123                                      Obama, Barack   \n",
       "130                               Ahmadinejad, Mahmoud   \n",
       "\n",
       "                                               Subject  \\\n",
       "124        Espionage;Criminal investigations;Poisoning   \n",
       "131  Covert operations;Nuclear weapons;Military air...   \n",
       "122                       Prisoner transfers;Espionage   \n",
       "123  Arrests;Prisoner transfers;International relat...   \n",
       "130  Nuclear weapons;Sanctions;Assassinations & ass...   \n",
       "\n",
       "                                                 Title Pages Publication date  \\\n",
       "124  Russia Says It Opened Criminal Inquiry Into Br...   A.4        16-Jun-07   \n",
       "131  U.S. Rejected Aid For Israeli Raid On Nuclear ...   A.1        11-Jan-09   \n",
       "122  Intrigue and Ambiguity in Cases of 4 Russians ...   A.9        10-Jul-10   \n",
       "123  Swap Idea Emerged Early In Case of Russian Age...   A.1        10-Jul-10   \n",
       "130  Bombings Hit Atomic Experts In Iran Streets: [...   A.1        30-Nov-10   \n",
       "\n",
       "     Page  wordCount PubDateParsed  negSentiment  posSentiment  \\\n",
       "124     4        624    2007-06-16         0.110         0.058   \n",
       "131     1       2571    2009-01-11         0.107         0.091   \n",
       "122     9       1158    2010-07-10         0.089         0.122   \n",
       "123     1       1681    2010-07-10         0.086         0.102   \n",
       "130     1       1032    2010-11-30         0.147         0.075   \n",
       "\n",
       "     negSentimentScaled  posSentimentScaled  \n",
       "124            0.561224            0.436090  \n",
       "131            0.545918            0.684211  \n",
       "122            0.454082            0.917293  \n",
       "123            0.438776            0.766917  \n",
       "130            0.750000            0.563910  "
      ]
     },
     "execution_count": 51,
     "metadata": {},
     "output_type": "execute_result"
    }
   ],
   "source": [
    "df.head()"
   ]
  },
  {
   "cell_type": "code",
   "execution_count": 53,
   "metadata": {},
   "outputs": [
    {
     "name": "stderr",
     "output_type": "stream",
     "text": [
      "<ipython-input-53-78e982b1c77b>:5: MatplotlibDeprecationWarning: Case-insensitive properties were deprecated in 3.3 and support will be removed two minor releases later\n",
      "  plt.title(\"Positive and Negative Sentiment - NYT\", fontSize = 16)\n"
     ]
    },
    {
     "data": {
      "text/plain": [
       "Text(21.296589988425936, 0.5, 'Negative Sentiment')"
      ]
     },
     "execution_count": 53,
     "metadata": {},
     "output_type": "execute_result"
    },
    {
     "data": {
      "image/png": "[encoded data removed]",
      "text/plain": [
       "<Figure size 598.225x432 with 1 Axes>"
      ]
     },
     "metadata": {
      "needs_background": "light"
     },
     "output_type": "display_data"
    }
   ],
   "source": [
    "# Plot miles per gallon against horsepower with other semantics\n",
    "sns.relplot(x=\"posSentimentScaled\", y=\"negSentimentScaled\", hue=\"Dataset\", size=\"wordCount\",\n",
    "            sizes=(40, 400), alpha=.5, palette=\"muted\",\n",
    "            height=6, data=df)\n",
    "plt.title(\"Positive and Negative Sentiment - NYT\", fontSize = 16)\n",
    "plt.xlabel(\"Positive Sentiment\", fontsize = 14)\n",
    "plt.ylabel(\"Negative Sentiment\", fontsize = 14)"
   ]
  },
  {
   "cell_type": "code",
   "execution_count": 54,
   "metadata": {},
   "outputs": [
    {
     "data": {
      "image/png": "[encoded data removed]",
      "text/plain": [
       "<Figure size 576x360 with 2 Axes>"
      ]
     },
     "metadata": {
      "needs_background": "light"
     },
     "output_type": "display_data"
    }
   ],
   "source": [
    "fig, ax = plt.subplots(1, 2, figsize = (8,5))\n",
    "\n",
    "sns.boxplot(x=\"Dataset\", y=\"negSentimentScaled\", palette=[\"m\", \"g\"],\n",
    "            data=df, ax = ax[0])\n",
    "sns.boxplot(x=\"Dataset\", y=\"posSentimentScaled\", palette=[\"m\", \"g\"],\n",
    "            data=df, ax = ax[1])\n",
    "\n",
    "plt.tight_layout()"
   ]
  },
  {
   "cell_type": "code",
   "execution_count": 60,
   "metadata": {},
   "outputs": [
    {
     "data": {
      "image/png": "[encoded data removed]",
      "text/plain": [
       "<Figure size 576x360 with 2 Axes>"
      ]
     },
     "metadata": {
      "needs_background": "light"
     },
     "output_type": "display_data"
    }
   ],
   "source": [
    "fig, ax = plt.subplots(1, 2, figsize = (8,5))\n",
    "\n",
    "sns.boxplot(x=\"Dataset\", y=\"negSentiment\", palette=[\"m\", \"g\"],\n",
    "            data=df, ax = ax[0])\n",
    "sns.boxplot(x=\"Dataset\", y=\"posSentiment\", palette=[\"m\", \"g\"],\n",
    "            data=df, ax = ax[1])\n",
    "\n",
    "ax[0].set_ylim(0,0.2)\n",
    "ax[1].set_ylim(0,0.2)\n",
    "\n",
    "plt.tight_layout()"
   ]
  },
  {
   "cell_type": "code",
   "execution_count": 63,
   "metadata": {},
   "outputs": [
    {
     "data": {
      "text/plain": [
       "Text(0, 0.5, 'Negative sentiment')"
      ]
     },
     "execution_count": 63,
     "metadata": {},
     "output_type": "execute_result"
    },
    {
     "data": {
      "image/png": "[encoded data removed]",
      "text/plain": [
       "<Figure size 432x288 with 1 Axes>"
      ]
     },
     "metadata": {
      "needs_background": "light"
     },
     "output_type": "display_data"
    }
   ],
   "source": [
    "sns.barplot(x=['Russia', 'Israel'], y=[df[df['Dataset'] == \"Skripal\"]['negSentiment'].mean(), df[df['Dataset'] == \"Scientist Assassination\"]['negSentiment'].mean()], palette=\"deep\")\n",
    "plt.axhline(0, color=\"k\", clip_on=False)\n",
    "plt.ylabel(\"Negative sentiment\")"
   ]
  },
  {
   "cell_type": "code",
   "execution_count": 62,
   "metadata": {},
   "outputs": [
    {
     "data": {
      "text/plain": [
       "Text(0, 0.5, 'Positive sentiment')"
      ]
     },
     "execution_count": 62,
     "metadata": {},
     "output_type": "execute_result"
    },
    {
     "data": {
      "image/png": "[encoded data removed]",
      "text/plain": [
       "<Figure size 432x288 with 1 Axes>"
      ]
     },
     "metadata": {
      "needs_background": "light"
     },
     "output_type": "display_data"
    }
   ],
   "source": [
    "sns.barplot(x=['Russia', 'Israel'], y=[df[df['Dataset'] == \"Skripal\"]['posSentiment'].mean(), df[df['Dataset'] == \"Scientist Assassination\"]['posSentiment'].mean()], palette=\"deep\")\n",
    "plt.axhline(0, color=\"k\", clip_on=False)\n",
    "plt.ylabel(\"Positive sentiment\")"
   ]
  },
  {
   "cell_type": "code",
   "execution_count": null,
   "metadata": {},
   "outputs": [],
   "source": []
  },
  {
   "cell_type": "code",
   "execution_count": null,
   "metadata": {},
   "outputs": [],
   "source": []
  }
 ],
 "metadata": {
  "kernelspec": {
   "display_name": "Python 3",
   "language": "python",
   "name": "python3"
  },
  "language_info": {
   "codemirror_mode": {
    "name": "ipython",
    "version": 3
   },
   "file_extension": ".py",
   "mimetype": "text/x-python",
   "name": "python",
   "nbconvert_exporter": "python",
   "pygments_lexer": "ipython3",
   "version": "3.8.6"
  }
 },
 "nbformat": 4,
 "nbformat_minor": 4
}
